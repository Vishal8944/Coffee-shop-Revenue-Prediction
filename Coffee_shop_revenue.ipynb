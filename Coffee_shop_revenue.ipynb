{
 "cells": [
  {
   "cell_type": "markdown",
   "id": "835c5888-ae9c-4727-889b-25ee5a8225e0",
   "metadata": {},
   "source": [
    "### Importing Libraries:"
   ]
  },
  {
   "cell_type": "code",
   "execution_count": 1,
   "id": "a44f28c0-9f01-40ac-82c5-047a1ddcc3ac",
   "metadata": {},
   "outputs": [],
   "source": [
    "import pandas as pd\n",
    "import numpy as np\n",
    "import seaborn as sns\n",
    "from sklearn.preprocessing import LabelEncoder\n",
    "from sklearn.model_selection import train_test_split\n",
    "from sklearn.linear_model import LinearRegression\n",
    "from sklearn.metrics import r2_score,mean_absolute_error, mean_squared_error\n",
    "import warnings\n",
    "warnings.filterwarnings('ignore')"
   ]
  },
  {
   "cell_type": "markdown",
   "id": "0f570b95-a2cf-4b2f-ac67-ceaa640eb11a",
   "metadata": {},
   "source": [
    "### Loading Data:"
   ]
  },
  {
   "cell_type": "code",
   "execution_count": 2,
   "id": "34e2a459-26b6-485e-8e77-15f45ee1a81d",
   "metadata": {},
   "outputs": [
    {
     "data": {
      "text/html": [
       "<div>\n",
       "<style scoped>\n",
       "    .dataframe tbody tr th:only-of-type {\n",
       "        vertical-align: middle;\n",
       "    }\n",
       "\n",
       "    .dataframe tbody tr th {\n",
       "        vertical-align: top;\n",
       "    }\n",
       "\n",
       "    .dataframe thead th {\n",
       "        text-align: right;\n",
       "    }\n",
       "</style>\n",
       "<table border=\"1\" class=\"dataframe\">\n",
       "  <thead>\n",
       "    <tr style=\"text-align: right;\">\n",
       "      <th></th>\n",
       "      <th>Number_of_Customers_Per_Day</th>\n",
       "      <th>Average_Order_Value</th>\n",
       "      <th>Operating_Hours_Per_Day</th>\n",
       "      <th>Number_of_Employees</th>\n",
       "      <th>Marketing_Spend_Per_Day</th>\n",
       "      <th>Location_Foot_Traffic</th>\n",
       "      <th>Daily_Revenue</th>\n",
       "    </tr>\n",
       "  </thead>\n",
       "  <tbody>\n",
       "    <tr>\n",
       "      <th>0</th>\n",
       "      <td>152</td>\n",
       "      <td>6.74</td>\n",
       "      <td>14</td>\n",
       "      <td>4</td>\n",
       "      <td>106.62</td>\n",
       "      <td>97</td>\n",
       "      <td>1547.81</td>\n",
       "    </tr>\n",
       "    <tr>\n",
       "      <th>1</th>\n",
       "      <td>485</td>\n",
       "      <td>4.50</td>\n",
       "      <td>12</td>\n",
       "      <td>8</td>\n",
       "      <td>57.83</td>\n",
       "      <td>744</td>\n",
       "      <td>2084.68</td>\n",
       "    </tr>\n",
       "    <tr>\n",
       "      <th>2</th>\n",
       "      <td>398</td>\n",
       "      <td>9.09</td>\n",
       "      <td>6</td>\n",
       "      <td>6</td>\n",
       "      <td>91.76</td>\n",
       "      <td>636</td>\n",
       "      <td>3118.39</td>\n",
       "    </tr>\n",
       "    <tr>\n",
       "      <th>3</th>\n",
       "      <td>320</td>\n",
       "      <td>8.48</td>\n",
       "      <td>17</td>\n",
       "      <td>4</td>\n",
       "      <td>462.63</td>\n",
       "      <td>770</td>\n",
       "      <td>2912.20</td>\n",
       "    </tr>\n",
       "    <tr>\n",
       "      <th>4</th>\n",
       "      <td>156</td>\n",
       "      <td>7.44</td>\n",
       "      <td>17</td>\n",
       "      <td>2</td>\n",
       "      <td>412.52</td>\n",
       "      <td>232</td>\n",
       "      <td>1663.42</td>\n",
       "    </tr>\n",
       "    <tr>\n",
       "      <th>...</th>\n",
       "      <td>...</td>\n",
       "      <td>...</td>\n",
       "      <td>...</td>\n",
       "      <td>...</td>\n",
       "      <td>...</td>\n",
       "      <td>...</td>\n",
       "      <td>...</td>\n",
       "    </tr>\n",
       "    <tr>\n",
       "      <th>1995</th>\n",
       "      <td>372</td>\n",
       "      <td>6.41</td>\n",
       "      <td>11</td>\n",
       "      <td>4</td>\n",
       "      <td>466.11</td>\n",
       "      <td>913</td>\n",
       "      <td>2816.85</td>\n",
       "    </tr>\n",
       "    <tr>\n",
       "      <th>1996</th>\n",
       "      <td>105</td>\n",
       "      <td>3.01</td>\n",
       "      <td>11</td>\n",
       "      <td>7</td>\n",
       "      <td>12.62</td>\n",
       "      <td>235</td>\n",
       "      <td>337.97</td>\n",
       "    </tr>\n",
       "    <tr>\n",
       "      <th>1997</th>\n",
       "      <td>89</td>\n",
       "      <td>5.28</td>\n",
       "      <td>16</td>\n",
       "      <td>9</td>\n",
       "      <td>376.64</td>\n",
       "      <td>310</td>\n",
       "      <td>951.34</td>\n",
       "    </tr>\n",
       "    <tr>\n",
       "      <th>1998</th>\n",
       "      <td>403</td>\n",
       "      <td>9.41</td>\n",
       "      <td>7</td>\n",
       "      <td>12</td>\n",
       "      <td>452.49</td>\n",
       "      <td>577</td>\n",
       "      <td>4266.21</td>\n",
       "    </tr>\n",
       "    <tr>\n",
       "      <th>1999</th>\n",
       "      <td>89</td>\n",
       "      <td>6.88</td>\n",
       "      <td>13</td>\n",
       "      <td>14</td>\n",
       "      <td>78.46</td>\n",
       "      <td>322</td>\n",
       "      <td>914.24</td>\n",
       "    </tr>\n",
       "  </tbody>\n",
       "</table>\n",
       "<p>2000 rows × 7 columns</p>\n",
       "</div>"
      ],
      "text/plain": [
       "      Number_of_Customers_Per_Day  Average_Order_Value  \\\n",
       "0                             152                 6.74   \n",
       "1                             485                 4.50   \n",
       "2                             398                 9.09   \n",
       "3                             320                 8.48   \n",
       "4                             156                 7.44   \n",
       "...                           ...                  ...   \n",
       "1995                          372                 6.41   \n",
       "1996                          105                 3.01   \n",
       "1997                           89                 5.28   \n",
       "1998                          403                 9.41   \n",
       "1999                           89                 6.88   \n",
       "\n",
       "      Operating_Hours_Per_Day  Number_of_Employees  Marketing_Spend_Per_Day  \\\n",
       "0                          14                    4                   106.62   \n",
       "1                          12                    8                    57.83   \n",
       "2                           6                    6                    91.76   \n",
       "3                          17                    4                   462.63   \n",
       "4                          17                    2                   412.52   \n",
       "...                       ...                  ...                      ...   \n",
       "1995                       11                    4                   466.11   \n",
       "1996                       11                    7                    12.62   \n",
       "1997                       16                    9                   376.64   \n",
       "1998                        7                   12                   452.49   \n",
       "1999                       13                   14                    78.46   \n",
       "\n",
       "      Location_Foot_Traffic  Daily_Revenue  \n",
       "0                        97        1547.81  \n",
       "1                       744        2084.68  \n",
       "2                       636        3118.39  \n",
       "3                       770        2912.20  \n",
       "4                       232        1663.42  \n",
       "...                     ...            ...  \n",
       "1995                    913        2816.85  \n",
       "1996                    235         337.97  \n",
       "1997                    310         951.34  \n",
       "1998                    577        4266.21  \n",
       "1999                    322         914.24  \n",
       "\n",
       "[2000 rows x 7 columns]"
      ]
     },
     "execution_count": 2,
     "metadata": {},
     "output_type": "execute_result"
    }
   ],
   "source": [
    "df=pd.read_csv(r\"C:\\Users\\Vishal S\\Downloads\\archive (14)\\coffee_shop_revenue.csv\")\n",
    "df"
   ]
  },
  {
   "cell_type": "code",
   "execution_count": null,
   "id": "a7e95df1-08c3-4d23-8d25-d13faa3fa911",
   "metadata": {},
   "outputs": [],
   "source": []
  },
  {
   "cell_type": "markdown",
   "id": "7d9a3776-d9ef-4ec8-9505-7c6ef2db4918",
   "metadata": {},
   "source": [
    "### Exploratory Data Analysis:"
   ]
  },
  {
   "cell_type": "code",
   "execution_count": 3,
   "id": "ef05dabb-1c2d-4220-a8ca-bfe4a30b9b0c",
   "metadata": {},
   "outputs": [
    {
     "data": {
      "text/plain": [
       "(2000, 7)"
      ]
     },
     "execution_count": 3,
     "metadata": {},
     "output_type": "execute_result"
    }
   ],
   "source": [
    "df.shape"
   ]
  },
  {
   "cell_type": "code",
   "execution_count": 4,
   "id": "28a0a3fa-f174-4a64-beca-618ec63e7975",
   "metadata": {},
   "outputs": [
    {
     "name": "stdout",
     "output_type": "stream",
     "text": [
      "<class 'pandas.core.frame.DataFrame'>\n",
      "RangeIndex: 2000 entries, 0 to 1999\n",
      "Data columns (total 7 columns):\n",
      " #   Column                       Non-Null Count  Dtype  \n",
      "---  ------                       --------------  -----  \n",
      " 0   Number_of_Customers_Per_Day  2000 non-null   int64  \n",
      " 1   Average_Order_Value          2000 non-null   float64\n",
      " 2   Operating_Hours_Per_Day      2000 non-null   int64  \n",
      " 3   Number_of_Employees          2000 non-null   int64  \n",
      " 4   Marketing_Spend_Per_Day      2000 non-null   float64\n",
      " 5   Location_Foot_Traffic        2000 non-null   int64  \n",
      " 6   Daily_Revenue                2000 non-null   float64\n",
      "dtypes: float64(3), int64(4)\n",
      "memory usage: 109.5 KB\n"
     ]
    }
   ],
   "source": [
    "df.info()"
   ]
  },
  {
   "cell_type": "code",
   "execution_count": 5,
   "id": "dac789c9-4ec2-40fd-81cf-4ae86e647668",
   "metadata": {},
   "outputs": [
    {
     "data": {
      "text/plain": [
       "Number_of_Customers_Per_Day    0\n",
       "Average_Order_Value            0\n",
       "Operating_Hours_Per_Day        0\n",
       "Number_of_Employees            0\n",
       "Marketing_Spend_Per_Day        0\n",
       "Location_Foot_Traffic          0\n",
       "Daily_Revenue                  0\n",
       "dtype: int64"
      ]
     },
     "execution_count": 5,
     "metadata": {},
     "output_type": "execute_result"
    }
   ],
   "source": [
    "df.isnull().sum()"
   ]
  },
  {
   "cell_type": "code",
   "execution_count": 6,
   "id": "02cfd7dc-b43d-40c3-b478-daf2fdca18ed",
   "metadata": {},
   "outputs": [
    {
     "data": {
      "text/plain": [
       "0"
      ]
     },
     "execution_count": 6,
     "metadata": {},
     "output_type": "execute_result"
    }
   ],
   "source": [
    "df.duplicated().sum()"
   ]
  },
  {
   "cell_type": "code",
   "execution_count": 7,
   "id": "ced6ae43-b6b1-42ec-a48c-569ed23fdd06",
   "metadata": {},
   "outputs": [
    {
     "data": {
      "text/plain": [
       "<Axes: >"
      ]
     },
     "execution_count": 7,
     "metadata": {},
     "output_type": "execute_result"
    },
    {
     "data": {
      "image/png": "[encoded data removed]",
      "text/plain": [
       "<Figure size 640x480 with 2 Axes>"
      ]
     },
     "metadata": {},
     "output_type": "display_data"
    }
   ],
   "source": [
    "sns.heatmap(df.corr() , annot=True)"
   ]
  },
  {
   "cell_type": "code",
   "execution_count": 8,
   "id": "1ddfae21-4da2-4248-ac5f-43a857f10210",
   "metadata": {},
   "outputs": [
    {
     "data": {
      "text/plain": [
       "<Axes: xlabel='Average_Order_Value'>"
      ]
     },
     "execution_count": 8,
     "metadata": {},
     "output_type": "execute_result"
    },
    {
     "data": {
      "image/png": "[encoded data removed]",
      "text/plain": [
       "<Figure size 640x480 with 1 Axes>"
      ]
     },
     "metadata": {},
     "output_type": "display_data"
    }
   ],
   "source": [
    "sns.boxplot(x=df['Average_Order_Value'])"
   ]
  },
  {
   "cell_type": "code",
   "execution_count": 9,
   "id": "33a488f3-7a02-49c6-8958-cb5446457ba6",
   "metadata": {},
   "outputs": [
    {
     "data": {
      "text/plain": [
       "<Axes: xlabel='Daily_Revenue', ylabel='Count'>"
      ]
     },
     "execution_count": 9,
     "metadata": {},
     "output_type": "execute_result"
    },
    {
     "data": {
      "image/png": "[encoded data removed]",
      "text/plain": [
       "<Figure size 640x480 with 1 Axes>"
      ]
     },
     "metadata": {},
     "output_type": "display_data"
    }
   ],
   "source": [
    "sns.histplot(df['Daily_Revenue'], kde=True)"
   ]
  },
  {
   "cell_type": "code",
   "execution_count": 10,
   "id": "a8174bd1-d278-4939-9b53-01674a40e45c",
   "metadata": {},
   "outputs": [
    {
     "data": {
      "text/plain": [
       "0.6350175930112962"
      ]
     },
     "execution_count": 10,
     "metadata": {},
     "output_type": "execute_result"
    }
   ],
   "source": [
    "df['Daily_Revenue'].skew()"
   ]
  },
  {
   "cell_type": "code",
   "execution_count": null,
   "id": "1a272a1e-cba0-432c-81b2-3091ea910cce",
   "metadata": {},
   "outputs": [],
   "source": []
  },
  {
   "cell_type": "markdown",
   "id": "3b6438b9-6623-42c7-bd50-1d451431e27a",
   "metadata": {},
   "source": [
    "### Scaling the Data:"
   ]
  },
  {
   "cell_type": "code",
   "execution_count": 11,
   "id": "09449bb6-9f92-496a-8712-d477a78043de",
   "metadata": {},
   "outputs": [],
   "source": [
    "from sklearn.preprocessing import StandardScaler\n",
    "sc=StandardScaler()\n",
    "features=['Number_of_Customers_Per_Day','Average_Order_Value','Operating_Hours_Per_Day','Number_of_Employees','Marketing_Spend_Per_Day','Location_Foot_Traffic']\n",
    "df[features]=sc.fit_transform(df[features])"
   ]
  },
  {
   "cell_type": "code",
   "execution_count": 12,
   "id": "d7c25888-edfb-45f8-a5c4-431894df4bb9",
   "metadata": {},
   "outputs": [
    {
     "data": {
      "text/html": [
       "<div>\n",
       "<style scoped>\n",
       "    .dataframe tbody tr th:only-of-type {\n",
       "        vertical-align: middle;\n",
       "    }\n",
       "\n",
       "    .dataframe tbody tr th {\n",
       "        vertical-align: top;\n",
       "    }\n",
       "\n",
       "    .dataframe thead th {\n",
       "        text-align: right;\n",
       "    }\n",
       "</style>\n",
       "<table border=\"1\" class=\"dataframe\">\n",
       "  <thead>\n",
       "    <tr style=\"text-align: right;\">\n",
       "      <th></th>\n",
       "      <th>Number_of_Customers_Per_Day</th>\n",
       "      <th>Average_Order_Value</th>\n",
       "      <th>Operating_Hours_Per_Day</th>\n",
       "      <th>Number_of_Employees</th>\n",
       "      <th>Marketing_Spend_Per_Day</th>\n",
       "      <th>Location_Foot_Traffic</th>\n",
       "      <th>Daily_Revenue</th>\n",
       "    </tr>\n",
       "  </thead>\n",
       "  <tbody>\n",
       "    <tr>\n",
       "      <th>0</th>\n",
       "      <td>-0.945031</td>\n",
       "      <td>0.220102</td>\n",
       "      <td>0.678642</td>\n",
       "      <td>-1.054986</td>\n",
       "      <td>-1.034681</td>\n",
       "      <td>-1.612307</td>\n",
       "      <td>1547.81</td>\n",
       "    </tr>\n",
       "    <tr>\n",
       "      <th>1</th>\n",
       "      <td>1.628195</td>\n",
       "      <td>-0.809647</td>\n",
       "      <td>0.096866</td>\n",
       "      <td>0.014166</td>\n",
       "      <td>-1.380462</td>\n",
       "      <td>0.769922</td>\n",
       "      <td>2084.68</td>\n",
       "    </tr>\n",
       "    <tr>\n",
       "      <th>2</th>\n",
       "      <td>0.955911</td>\n",
       "      <td>1.300418</td>\n",
       "      <td>-1.648463</td>\n",
       "      <td>-0.520410</td>\n",
       "      <td>-1.139995</td>\n",
       "      <td>0.372270</td>\n",
       "      <td>3118.39</td>\n",
       "    </tr>\n",
       "    <tr>\n",
       "      <th>3</th>\n",
       "      <td>0.353173</td>\n",
       "      <td>1.019996</td>\n",
       "      <td>1.551306</td>\n",
       "      <td>-1.054986</td>\n",
       "      <td>1.488411</td>\n",
       "      <td>0.865653</td>\n",
       "      <td>2912.20</td>\n",
       "    </tr>\n",
       "    <tr>\n",
       "      <th>4</th>\n",
       "      <td>-0.914121</td>\n",
       "      <td>0.541898</td>\n",
       "      <td>1.551306</td>\n",
       "      <td>-1.589562</td>\n",
       "      <td>1.133274</td>\n",
       "      <td>-1.115242</td>\n",
       "      <td>1663.42</td>\n",
       "    </tr>\n",
       "    <tr>\n",
       "      <th>...</th>\n",
       "      <td>...</td>\n",
       "      <td>...</td>\n",
       "      <td>...</td>\n",
       "      <td>...</td>\n",
       "      <td>...</td>\n",
       "      <td>...</td>\n",
       "      <td>...</td>\n",
       "    </tr>\n",
       "    <tr>\n",
       "      <th>1995</th>\n",
       "      <td>0.754998</td>\n",
       "      <td>0.068398</td>\n",
       "      <td>-0.194022</td>\n",
       "      <td>-1.054986</td>\n",
       "      <td>1.513074</td>\n",
       "      <td>1.392174</td>\n",
       "      <td>2816.85</td>\n",
       "    </tr>\n",
       "    <tr>\n",
       "      <th>1996</th>\n",
       "      <td>-1.308219</td>\n",
       "      <td>-1.494613</td>\n",
       "      <td>-0.194022</td>\n",
       "      <td>-0.253122</td>\n",
       "      <td>-1.700871</td>\n",
       "      <td>-1.104196</td>\n",
       "      <td>337.97</td>\n",
       "    </tr>\n",
       "    <tr>\n",
       "      <th>1997</th>\n",
       "      <td>-1.431857</td>\n",
       "      <td>-0.451074</td>\n",
       "      <td>1.260418</td>\n",
       "      <td>0.281454</td>\n",
       "      <td>0.878988</td>\n",
       "      <td>-0.828049</td>\n",
       "      <td>951.34</td>\n",
       "    </tr>\n",
       "    <tr>\n",
       "      <th>1998</th>\n",
       "      <td>0.994548</td>\n",
       "      <td>1.447525</td>\n",
       "      <td>-1.357575</td>\n",
       "      <td>1.083318</td>\n",
       "      <td>1.416547</td>\n",
       "      <td>0.155035</td>\n",
       "      <td>4266.21</td>\n",
       "    </tr>\n",
       "    <tr>\n",
       "      <th>1999</th>\n",
       "      <td>-1.431857</td>\n",
       "      <td>0.284461</td>\n",
       "      <td>0.387754</td>\n",
       "      <td>1.617895</td>\n",
       "      <td>-1.234254</td>\n",
       "      <td>-0.783866</td>\n",
       "      <td>914.24</td>\n",
       "    </tr>\n",
       "  </tbody>\n",
       "</table>\n",
       "<p>2000 rows × 7 columns</p>\n",
       "</div>"
      ],
      "text/plain": [
       "      Number_of_Customers_Per_Day  Average_Order_Value  \\\n",
       "0                       -0.945031             0.220102   \n",
       "1                        1.628195            -0.809647   \n",
       "2                        0.955911             1.300418   \n",
       "3                        0.353173             1.019996   \n",
       "4                       -0.914121             0.541898   \n",
       "...                           ...                  ...   \n",
       "1995                     0.754998             0.068398   \n",
       "1996                    -1.308219            -1.494613   \n",
       "1997                    -1.431857            -0.451074   \n",
       "1998                     0.994548             1.447525   \n",
       "1999                    -1.431857             0.284461   \n",
       "\n",
       "      Operating_Hours_Per_Day  Number_of_Employees  Marketing_Spend_Per_Day  \\\n",
       "0                    0.678642            -1.054986                -1.034681   \n",
       "1                    0.096866             0.014166                -1.380462   \n",
       "2                   -1.648463            -0.520410                -1.139995   \n",
       "3                    1.551306            -1.054986                 1.488411   \n",
       "4                    1.551306            -1.589562                 1.133274   \n",
       "...                       ...                  ...                      ...   \n",
       "1995                -0.194022            -1.054986                 1.513074   \n",
       "1996                -0.194022            -0.253122                -1.700871   \n",
       "1997                 1.260418             0.281454                 0.878988   \n",
       "1998                -1.357575             1.083318                 1.416547   \n",
       "1999                 0.387754             1.617895                -1.234254   \n",
       "\n",
       "      Location_Foot_Traffic  Daily_Revenue  \n",
       "0                 -1.612307        1547.81  \n",
       "1                  0.769922        2084.68  \n",
       "2                  0.372270        3118.39  \n",
       "3                  0.865653        2912.20  \n",
       "4                 -1.115242        1663.42  \n",
       "...                     ...            ...  \n",
       "1995               1.392174        2816.85  \n",
       "1996              -1.104196         337.97  \n",
       "1997              -0.828049         951.34  \n",
       "1998               0.155035        4266.21  \n",
       "1999              -0.783866         914.24  \n",
       "\n",
       "[2000 rows x 7 columns]"
      ]
     },
     "execution_count": 12,
     "metadata": {},
     "output_type": "execute_result"
    }
   ],
   "source": [
    "df"
   ]
  },
  {
   "cell_type": "code",
   "execution_count": null,
   "id": "785ebe3c-25f2-4d80-845e-097a3f205929",
   "metadata": {},
   "outputs": [],
   "source": []
  },
  {
   "cell_type": "markdown",
   "id": "56305256-4d86-42d9-9a4e-84a92a4a7736",
   "metadata": {},
   "source": [
    "### Splitting the Data:"
   ]
  },
  {
   "cell_type": "code",
   "execution_count": 13,
   "id": "daae049c-0dfe-4906-8d17-6665abca1898",
   "metadata": {},
   "outputs": [],
   "source": [
    "X=df.drop(columns=['Daily_Revenue'])\n",
    "Y=df['Daily_Revenue']"
   ]
  },
  {
   "cell_type": "code",
   "execution_count": 14,
   "id": "5401eee8-055f-42bb-b4f5-51ce4e1918ef",
   "metadata": {},
   "outputs": [],
   "source": [
    "x_train,x_test,y_train,y_test=train_test_split(X,Y,test_size=0.2,random_state=15)"
   ]
  },
  {
   "cell_type": "code",
   "execution_count": null,
   "id": "ebb7d36b-8ebb-4a37-9482-761dcabdcf88",
   "metadata": {},
   "outputs": [],
   "source": []
  },
  {
   "cell_type": "markdown",
   "id": "4a8fe56b-6f22-4b4a-990d-0578eec74a6d",
   "metadata": {},
   "source": [
    "### Building Models:"
   ]
  },
  {
   "cell_type": "code",
   "execution_count": 15,
   "id": "c2c4f21c-c66a-4d2b-bb03-ac4b83dd1cda",
   "metadata": {},
   "outputs": [
    {
     "name": "stdout",
     "output_type": "stream",
     "text": [
      "MSE: 107714.58112403551\n",
      "R2 Score: 0.892147769688253\n",
      "MAE: 260.15448938477556\n"
     ]
    }
   ],
   "source": [
    "lin=LinearRegression()\n",
    "lin.fit(x_train,y_train)\n",
    "y_pred=lin.predict(x_test)\n",
    "print(f\"MSE: {mean_squared_error(y_test, y_pred)}\")\n",
    "print(f\"R2 Score: {r2_score(y_test, y_pred)}\")\n",
    "print(f\"MAE: {mean_absolute_error(y_test, y_pred)}\")"
   ]
  },
  {
   "cell_type": "code",
   "execution_count": 16,
   "id": "fd879e4a-a86d-47d5-a2ff-28d21ff8f6ee",
   "metadata": {},
   "outputs": [
    {
     "name": "stdout",
     "output_type": "stream",
     "text": [
      "Decision Tree MSE: 99732.79911425\n",
      "Decision Tree R2 Score: 0.9001397516709547\n",
      "MAE: 253.858475\n"
     ]
    }
   ],
   "source": [
    "from sklearn.tree import DecisionTreeRegressor\n",
    "\n",
    "# Initialize the model\n",
    "dt = DecisionTreeRegressor(random_state=15)\n",
    "\n",
    "# Train the model\n",
    "dt.fit(x_train, y_train)\n",
    "\n",
    "# Predict on test data\n",
    "y_pred_dt = dt.predict(x_test)\n",
    "\n",
    "# Evaluate the model\n",
    "print(f\"Decision Tree MSE: {mean_squared_error(y_test, y_pred_dt)}\")\n",
    "print(f\"Decision Tree R2 Score: {r2_score(y_test, y_pred_dt)}\")\n",
    "print(f\"MAE: {mean_absolute_error(y_test, y_pred_dt)}\")"
   ]
  },
  {
   "cell_type": "code",
   "execution_count": 17,
   "id": "78ec3f2c-8585-4c62-a8bc-732b4ca24020",
   "metadata": {},
   "outputs": [
    {
     "name": "stdout",
     "output_type": "stream",
     "text": [
      "SVR MSE: 924240.0365870048\n",
      "SVR R2 Score: 0.07457887085376158\n",
      "MAE: 758.3516792759174\n"
     ]
    }
   ],
   "source": [
    "from sklearn.svm import SVR\n",
    "\n",
    "# Initialize SVR model\n",
    "svr = SVR(kernel='rbf')  # 'rbf' is the default kernel, suitable for non-linear data\n",
    "\n",
    "# Train the model\n",
    "svr.fit(x_train, y_train)\n",
    "\n",
    "# Predict on test data\n",
    "y_pred_svr = svr.predict(x_test)\n",
    "\n",
    "# Evaluate the model\n",
    "print(f\"SVR MSE: {mean_squared_error(y_test, y_pred_svr)}\")\n",
    "print(f\"SVR R2 Score: {r2_score(y_test, y_pred_svr)}\")\n",
    "print(f\"MAE: {mean_absolute_error(y_test, y_pred_svr)}\")"
   ]
  },
  {
   "cell_type": "code",
   "execution_count": 18,
   "id": "bfdaf596-11bc-431b-b642-e11668d3281e",
   "metadata": {},
   "outputs": [
    {
     "name": "stdout",
     "output_type": "stream",
     "text": [
      "Random Forest MSE: 52922.81552515524\n",
      "Random Forest R2 Score: 0.947009554052924\n",
      "MAE: 187.2578977500001\n"
     ]
    }
   ],
   "source": [
    "from sklearn.ensemble import RandomForestRegressor\n",
    "\n",
    "rf = RandomForestRegressor(n_estimators=100, random_state=15)\n",
    "rf.fit(x_train, y_train)\n",
    "y_pred_rf = rf.predict(x_test)\n",
    "\n",
    "print(f\"Random Forest MSE: {mean_squared_error(y_test, y_pred_rf)}\")\n",
    "print(f\"Random Forest R2 Score: {r2_score(y_test, y_pred_rf)}\")\n",
    "print(f\"MAE: {mean_absolute_error(y_test, y_pred_rf)}\")"
   ]
  },
  {
   "cell_type": "code",
   "execution_count": null,
   "id": "ad54b2e2-56dd-400d-970c-ad9d56926139",
   "metadata": {},
   "outputs": [],
   "source": []
  },
  {
   "cell_type": "code",
   "execution_count": null,
   "id": "8aaadd08-5b2b-4e19-90ec-4f6980c43590",
   "metadata": {},
   "outputs": [],
   "source": []
  },
  {
   "cell_type": "markdown",
   "id": "b4252cc4-08d7-455c-94f3-b9fd88b42bdb",
   "metadata": {},
   "source": [
    "### Tuning Hyperlparameter using GridSearch:"
   ]
  },
  {
   "cell_type": "code",
   "execution_count": 19,
   "id": "9afe1f18-347d-4c7b-a12d-39305fba3d3a",
   "metadata": {},
   "outputs": [
    {
     "name": "stdout",
     "output_type": "stream",
     "text": [
      "Best Random Forest Parameters: {'max_depth': 15, 'min_samples_leaf': 1, 'min_samples_split': 5, 'n_estimators': 60}\n",
      "Best Random Forest MSE: 52716.51050690349\n",
      "Best Random Forest R2 Score: 0.9472161227097462\n"
     ]
    }
   ],
   "source": [
    "from sklearn.model_selection import GridSearchCV\n",
    "param_grid_rf = {\n",
    "    'n_estimators': [50, 60, 80],\n",
    "    'max_depth': [5, 10, 15],\n",
    "    'min_samples_split': [2, 5],\n",
    "    'min_samples_leaf': [1, 2]\n",
    "}\n",
    "\n",
    "# Initialize GridSearchCV\n",
    "grid_search_rf = GridSearchCV(RandomForestRegressor(random_state=15), param_grid_rf, cv=5, scoring='r2', n_jobs=-1)\n",
    "grid_search_rf.fit(x_train, y_train)\n",
    "\n",
    "# Get best model and evaluate\n",
    "best_rf = grid_search_rf.best_estimator_\n",
    "y_pred_rf_best = best_rf.predict(x_test)\n",
    "\n",
    "print(f\"Best Random Forest Parameters: {grid_search_rf.best_params_}\")\n",
    "print(f\"Best Random Forest MSE: {mean_squared_error(y_test, y_pred_rf_best)}\")\n",
    "print(f\"Best Random Forest R2 Score: {r2_score(y_test, y_pred_rf_best)}\")"
   ]
  },
  {
   "cell_type": "code",
   "execution_count": null,
   "id": "aec0724f-94f6-4365-9383-f1622171eb02",
   "metadata": {},
   "outputs": [],
   "source": []
  },
  {
   "cell_type": "markdown",
   "id": "e5f805d3-a21b-41d2-9419-5790502c75fe",
   "metadata": {},
   "source": [
    "### Fitting the Best Model:"
   ]
  },
  {
   "cell_type": "code",
   "execution_count": 20,
   "id": "a027e3c8-ad79-45aa-9744-6b43f73bc73e",
   "metadata": {},
   "outputs": [
    {
     "name": "stdout",
     "output_type": "stream",
     "text": [
      "Random Forest MSE: 52450.557431077854\n",
      "Random Forest R2 Score: 0.9474824156487962\n"
     ]
    }
   ],
   "source": [
    "rfm = RandomForestRegressor(n_estimators=80, max_depth=15, min_samples_leaf=1, min_samples_split=5, random_state=15)\n",
    "rfm.fit(x_train, y_train)\n",
    "y_pred_rf = rfm.predict(x_test)\n",
    "\n",
    "print(f\"Random Forest MSE: {mean_squared_error(y_test, y_pred_rf)}\")\n",
    "print(f\"Random Forest R2 Score: {r2_score(y_test, y_pred_rf)}\")"
   ]
  },
  {
   "cell_type": "code",
   "execution_count": null,
   "id": "9a7eff5b-3b09-4585-903d-a75972bee083",
   "metadata": {},
   "outputs": [],
   "source": []
  },
  {
   "cell_type": "code",
   "execution_count": null,
   "id": "a5d85acb-ecdf-4bde-99f6-3f97dafe70d9",
   "metadata": {},
   "outputs": [],
   "source": []
  },
  {
   "cell_type": "code",
   "execution_count": null,
   "id": "85457b4d-5b07-4757-89df-5eeeae38ec85",
   "metadata": {},
   "outputs": [],
   "source": []
  },
  {
   "cell_type": "markdown",
   "id": "e1818657-fdbd-47e7-865e-6be042d3f5dc",
   "metadata": {},
   "source": [
    "### Prediction System:"
   ]
  },
  {
   "cell_type": "code",
   "execution_count": 23,
   "id": "52d52d52-36e0-4906-a6d7-96c13dfe368a",
   "metadata": {},
   "outputs": [
    {
     "name": "stdout",
     "output_type": "stream",
     "text": [
      "Enter the following details to predict daily revenue:\n"
     ]
    },
    {
     "name": "stdin",
     "output_type": "stream",
     "text": [
      "Number of Customers Per Day:  34\n",
      "Average Order Value:  45\n",
      "Operating Hours Per Day:  56\n",
      "Number of Employees:  5\n",
      "Marketing Spend Per Day:  44\n",
      "Location Foot Traffic:  33\n"
     ]
    },
    {
     "name": "stdout",
     "output_type": "stream",
     "text": [
      "\n",
      "📈 Predicted Daily Revenue: $813.66\n"
     ]
    }
   ],
   "source": [
    "print(\"Enter the following details to predict daily revenue:\")\n",
    "cust = float(input(\"Number of Customers Per Day: \"))\n",
    "order_val = float(input(\"Average Order Value: \"))\n",
    "hours = float(input(\"Operating Hours Per Day: \"))\n",
    "employees = float(input(\"Number of Employees: \"))\n",
    "marketing = float(input(\"Marketing Spend Per Day: \"))\n",
    "foot_traffic = float(input(\"Location Foot Traffic: \"))\n",
    "\n",
    "# Create input array and scale\n",
    "user_input = np.array([[cust, order_val, hours, employees, marketing, foot_traffic]])\n",
    "user_input_scaled = sc.transform(user_input)\n",
    "\n",
    "# Predict revenue\n",
    "predicted_revenue = rfm.predict(user_input_scaled)\n",
    "print(f\"\\n📈 Predicted Daily Revenue: ${predicted_revenue[0]:.2f}\")"
   ]
  },
  {
   "cell_type": "code",
   "execution_count": null,
   "id": "478b530f-b8fa-461e-a772-dbcb3ab5c2c5",
   "metadata": {},
   "outputs": [],
   "source": []
  },
  {
   "cell_type": "markdown",
   "id": "795e0115-5252-44c7-8c7f-c5a30cf29fce",
   "metadata": {},
   "source": [
    "### Saving Model:"
   ]
  },
  {
   "cell_type": "code",
   "execution_count": 24,
   "id": "ebdc91cb-7d1b-41b5-a30a-983eae1bff97",
   "metadata": {},
   "outputs": [],
   "source": [
    "import pickle\n",
    "pickle.dump(sc,open('scalar.pkl','wb'))\n",
    "pickle.dump(rfm, open('model.pkl', 'wb'))"
   ]
  },
  {
   "cell_type": "code",
   "execution_count": null,
   "id": "500bc913-7e7f-4600-b360-c92af8d46a78",
   "metadata": {},
   "outputs": [],
   "source": []
  }
 ],
 "metadata": {
  "kernelspec": {
   "display_name": "Python 3 (ipykernel)",
   "language": "python",
   "name": "python3"
  },
  "language_info": {
   "codemirror_mode": {
    "name": "ipython",
    "version": 3
   },
   "file_extension": ".py",
   "mimetype": "text/x-python",
   "name": "python",
   "nbconvert_exporter": "python",
   "pygments_lexer": "ipython3",
   "version": "3.12.4"
  }
 },
 "nbformat": 4,
 "nbformat_minor": 5
}
